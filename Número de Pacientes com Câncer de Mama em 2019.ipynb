{
 "cells": [
  {
   "cell_type": "markdown",
   "metadata": {},
   "source": [
    "## Pacientes com Cancêr de Mama por faixa etária em 2019 np Brasil #"
   ]
  },
  {
   "cell_type": "markdown",
   "metadata": {},
   "source": [
    "**Introdução**\n",
    "--------------------\n",
    "\n",
    "Os dados obtidos para análise se encontra em\n",
    "http://tabnet.datasus.gov.br/cgi/dhdat.exe?SISCAN/CITOMAMA_PACbr.def\n",
    "\n",
    "O câncer de mama não tem uma causa única. Dentre diversos fatores que estão relacionados ao aumento do risco de desenvolver a doença, a idade é um dos principais.\n",
    "\n",
    "Segundo alguns estudos, mulheres mais velhas, sobretudo a partir dos 50 anos de idade, têm maior risco de desenvolver câncer de mama. O acúmulo de exposições ao longo da vida e as próprias alterações biológicas com o envelhecimento aumentam, de modo geral, esse risco."
   ]
  },
  {
   "cell_type": "code",
   "execution_count": 1,
   "metadata": {},
   "outputs": [],
   "source": [
    "import pandas as pd\n",
    "import matplotlib.pyplot as plt\n",
    "low_memory=False\n",
    "%matplotlib inline\n",
    "pd.options.display.max_columns = 80\n",
    "pd.options.display.max_rows = 90"
   ]
  },
  {
   "cell_type": "code",
   "execution_count": 2,
   "metadata": {},
   "outputs": [],
   "source": [
    "arquivo = r'/Users/Larissa/Documents/FATEC/5 semestre/Lab Banco de Dados - Masanori/Análise Cancês de mama/Casos câncer de mama 2019.xlsx'\n",
    "dados = pd.read_excel(arquivo)"
   ]
  },
  {
   "cell_type": "code",
   "execution_count": 3,
   "metadata": {},
   "outputs": [
    {
     "data": {
      "text/plain": [
       "(17, 5)"
      ]
     },
     "execution_count": 3,
     "metadata": {},
     "output_type": "execute_result"
    }
   ],
   "source": [
    "dados.shape"
   ]
  },
  {
   "cell_type": "code",
   "execution_count": 4,
   "metadata": {},
   "outputs": [
    {
     "data": {
      "text/html": [
       "<div>\n",
       "<style scoped>\n",
       "    .dataframe tbody tr th:only-of-type {\n",
       "        vertical-align: middle;\n",
       "    }\n",
       "\n",
       "    .dataframe tbody tr th {\n",
       "        vertical-align: top;\n",
       "    }\n",
       "\n",
       "    .dataframe thead th {\n",
       "        text-align: right;\n",
       "    }\n",
       "</style>\n",
       "<table border=\"1\" class=\"dataframe\">\n",
       "  <thead>\n",
       "    <tr style=\"text-align: right;\">\n",
       "      <th></th>\n",
       "      <th>Faixa etária</th>\n",
       "      <th>Mama Direita</th>\n",
       "      <th>Mama Esquerda</th>\n",
       "      <th>Mama Direita e Esquerda</th>\n",
       "      <th>Total</th>\n",
       "    </tr>\n",
       "  </thead>\n",
       "  <tbody>\n",
       "    <tr>\n",
       "      <th>0</th>\n",
       "      <td>Total</td>\n",
       "      <td>3024</td>\n",
       "      <td>3005</td>\n",
       "      <td>223</td>\n",
       "      <td>5806</td>\n",
       "    </tr>\n",
       "    <tr>\n",
       "      <th>1</th>\n",
       "      <td>Até 9 anos</td>\n",
       "      <td>1</td>\n",
       "      <td>1</td>\n",
       "      <td>1</td>\n",
       "      <td>1</td>\n",
       "    </tr>\n",
       "    <tr>\n",
       "      <th>2</th>\n",
       "      <td>Entre 10 a 14 anos</td>\n",
       "      <td>25</td>\n",
       "      <td>16</td>\n",
       "      <td>1</td>\n",
       "      <td>40</td>\n",
       "    </tr>\n",
       "    <tr>\n",
       "      <th>3</th>\n",
       "      <td>Entre 15 a 19 anos</td>\n",
       "      <td>157</td>\n",
       "      <td>171</td>\n",
       "      <td>8</td>\n",
       "      <td>320</td>\n",
       "    </tr>\n",
       "    <tr>\n",
       "      <th>4</th>\n",
       "      <td>Entre 20 a 24 anos</td>\n",
       "      <td>251</td>\n",
       "      <td>202</td>\n",
       "      <td>10</td>\n",
       "      <td>443</td>\n",
       "    </tr>\n",
       "    <tr>\n",
       "      <th>5</th>\n",
       "      <td>Entre 25 a 29 anos</td>\n",
       "      <td>190</td>\n",
       "      <td>164</td>\n",
       "      <td>11</td>\n",
       "      <td>343</td>\n",
       "    </tr>\n",
       "    <tr>\n",
       "      <th>6</th>\n",
       "      <td>Entre 30 a 34 anos</td>\n",
       "      <td>249</td>\n",
       "      <td>256</td>\n",
       "      <td>22</td>\n",
       "      <td>483</td>\n",
       "    </tr>\n",
       "    <tr>\n",
       "      <th>7</th>\n",
       "      <td>Entre 35 a 39 anos</td>\n",
       "      <td>343</td>\n",
       "      <td>340</td>\n",
       "      <td>30</td>\n",
       "      <td>653</td>\n",
       "    </tr>\n",
       "    <tr>\n",
       "      <th>8</th>\n",
       "      <td>Entre 40 a 44 anos</td>\n",
       "      <td>427</td>\n",
       "      <td>446</td>\n",
       "      <td>36</td>\n",
       "      <td>837</td>\n",
       "    </tr>\n",
       "    <tr>\n",
       "      <th>9</th>\n",
       "      <td>Entre 45 a 49 anos</td>\n",
       "      <td>431</td>\n",
       "      <td>488</td>\n",
       "      <td>40</td>\n",
       "      <td>879</td>\n",
       "    </tr>\n",
       "    <tr>\n",
       "      <th>10</th>\n",
       "      <td>Entre 50 a 54 anos</td>\n",
       "      <td>342</td>\n",
       "      <td>343</td>\n",
       "      <td>25</td>\n",
       "      <td>660</td>\n",
       "    </tr>\n",
       "    <tr>\n",
       "      <th>11</th>\n",
       "      <td>Entre 55 a 59 anos</td>\n",
       "      <td>203</td>\n",
       "      <td>192</td>\n",
       "      <td>18</td>\n",
       "      <td>377</td>\n",
       "    </tr>\n",
       "    <tr>\n",
       "      <th>12</th>\n",
       "      <td>Entre 60 a 64 anos</td>\n",
       "      <td>165</td>\n",
       "      <td>149</td>\n",
       "      <td>8</td>\n",
       "      <td>306</td>\n",
       "    </tr>\n",
       "    <tr>\n",
       "      <th>13</th>\n",
       "      <td>Entre 65 a 69 anos</td>\n",
       "      <td>103</td>\n",
       "      <td>108</td>\n",
       "      <td>5</td>\n",
       "      <td>206</td>\n",
       "    </tr>\n",
       "    <tr>\n",
       "      <th>14</th>\n",
       "      <td>Entre 70 a 74 anos</td>\n",
       "      <td>62</td>\n",
       "      <td>61</td>\n",
       "      <td>5</td>\n",
       "      <td>118</td>\n",
       "    </tr>\n",
       "    <tr>\n",
       "      <th>15</th>\n",
       "      <td>Entre 75 a 79 anos</td>\n",
       "      <td>41</td>\n",
       "      <td>36</td>\n",
       "      <td>2</td>\n",
       "      <td>75</td>\n",
       "    </tr>\n",
       "    <tr>\n",
       "      <th>16</th>\n",
       "      <td>Entre 80 anos ++</td>\n",
       "      <td>35</td>\n",
       "      <td>34</td>\n",
       "      <td>1</td>\n",
       "      <td>68</td>\n",
       "    </tr>\n",
       "  </tbody>\n",
       "</table>\n",
       "</div>"
      ],
      "text/plain": [
       "          Faixa etária  Mama Direita  Mama Esquerda  Mama Direita e Esquerda  \\\n",
       "0                Total          3024           3005                      223   \n",
       "1           Até 9 anos             1              1                        1   \n",
       "2   Entre 10 a 14 anos            25             16                        1   \n",
       "3   Entre 15 a 19 anos           157            171                        8   \n",
       "4   Entre 20 a 24 anos           251            202                       10   \n",
       "5   Entre 25 a 29 anos           190            164                       11   \n",
       "6   Entre 30 a 34 anos           249            256                       22   \n",
       "7   Entre 35 a 39 anos           343            340                       30   \n",
       "8   Entre 40 a 44 anos           427            446                       36   \n",
       "9   Entre 45 a 49 anos           431            488                       40   \n",
       "10  Entre 50 a 54 anos           342            343                       25   \n",
       "11  Entre 55 a 59 anos           203            192                       18   \n",
       "12  Entre 60 a 64 anos           165            149                        8   \n",
       "13  Entre 65 a 69 anos           103            108                        5   \n",
       "14  Entre 70 a 74 anos            62             61                        5   \n",
       "15  Entre 75 a 79 anos            41             36                        2   \n",
       "16    Entre 80 anos ++            35             34                        1   \n",
       "\n",
       "    Total  \n",
       "0    5806  \n",
       "1       1  \n",
       "2      40  \n",
       "3     320  \n",
       "4     443  \n",
       "5     343  \n",
       "6     483  \n",
       "7     653  \n",
       "8     837  \n",
       "9     879  \n",
       "10    660  \n",
       "11    377  \n",
       "12    306  \n",
       "13    206  \n",
       "14    118  \n",
       "15     75  \n",
       "16     68  "
      ]
     },
     "execution_count": 4,
     "metadata": {},
     "output_type": "execute_result"
    }
   ],
   "source": [
    "dados"
   ]
  },
  {
   "cell_type": "markdown",
   "metadata": {},
   "source": [
    "Segundo a tabela acima na qual apresenta os números de casos de cancêr de mama do ano de 2019, podemos notar que as faixas estária que apresentam maior número de casos no ano são de 40 a 44 anos e de 45 a 49 anos. "
   ]
  },
  {
   "cell_type": "code",
   "execution_count": 5,
   "metadata": {},
   "outputs": [
    {
     "data": {
      "text/html": [
       "<div>\n",
       "<style scoped>\n",
       "    .dataframe tbody tr th:only-of-type {\n",
       "        vertical-align: middle;\n",
       "    }\n",
       "\n",
       "    .dataframe tbody tr th {\n",
       "        vertical-align: top;\n",
       "    }\n",
       "\n",
       "    .dataframe thead th {\n",
       "        text-align: right;\n",
       "    }\n",
       "</style>\n",
       "<table border=\"1\" class=\"dataframe\">\n",
       "  <thead>\n",
       "    <tr style=\"text-align: right;\">\n",
       "      <th></th>\n",
       "      <th>Faixa etária</th>\n",
       "      <th>Mama Direita</th>\n",
       "      <th>Mama Esquerda</th>\n",
       "      <th>Mama Direita e Esquerda</th>\n",
       "      <th>Total</th>\n",
       "    </tr>\n",
       "  </thead>\n",
       "  <tbody>\n",
       "    <tr>\n",
       "      <th>8</th>\n",
       "      <td>Entre 40 a 44 anos</td>\n",
       "      <td>427</td>\n",
       "      <td>446</td>\n",
       "      <td>36</td>\n",
       "      <td>837</td>\n",
       "    </tr>\n",
       "    <tr>\n",
       "      <th>9</th>\n",
       "      <td>Entre 45 a 49 anos</td>\n",
       "      <td>431</td>\n",
       "      <td>488</td>\n",
       "      <td>40</td>\n",
       "      <td>879</td>\n",
       "    </tr>\n",
       "  </tbody>\n",
       "</table>\n",
       "</div>"
      ],
      "text/plain": [
       "         Faixa etária  Mama Direita  Mama Esquerda  Mama Direita e Esquerda  \\\n",
       "8  Entre 40 a 44 anos           427            446                       36   \n",
       "9  Entre 45 a 49 anos           431            488                       40   \n",
       "\n",
       "   Total  \n",
       "8    837  \n",
       "9    879  "
      ]
     },
     "execution_count": 5,
     "metadata": {},
     "output_type": "execute_result"
    }
   ],
   "source": [
    "dados.loc[[8, 9]]"
   ]
  },
  {
   "cell_type": "markdown",
   "metadata": {},
   "source": [
    "Contrariando, portanto, estudos como o dito na introdução, que afirmam que mulheres mais velhas, sobretudo a partir dos 50 anos de idade, têm maior risco de desenvolver câncer de mama. Quando na verdade, de acordo com o ano de 2019, os números de casos tenderam a diminuir a partir dos 50 anos de idade."
   ]
  },
  {
   "cell_type": "code",
   "execution_count": 6,
   "metadata": {},
   "outputs": [
    {
     "data": {
      "text/html": [
       "<div>\n",
       "<style scoped>\n",
       "    .dataframe tbody tr th:only-of-type {\n",
       "        vertical-align: middle;\n",
       "    }\n",
       "\n",
       "    .dataframe tbody tr th {\n",
       "        vertical-align: top;\n",
       "    }\n",
       "\n",
       "    .dataframe thead th {\n",
       "        text-align: right;\n",
       "    }\n",
       "</style>\n",
       "<table border=\"1\" class=\"dataframe\">\n",
       "  <thead>\n",
       "    <tr style=\"text-align: right;\">\n",
       "      <th></th>\n",
       "      <th>Faixa etária</th>\n",
       "      <th>Mama Direita</th>\n",
       "      <th>Mama Esquerda</th>\n",
       "      <th>Mama Direita e Esquerda</th>\n",
       "      <th>Total</th>\n",
       "    </tr>\n",
       "  </thead>\n",
       "  <tbody>\n",
       "    <tr>\n",
       "      <th>10</th>\n",
       "      <td>Entre 50 a 54 anos</td>\n",
       "      <td>342</td>\n",
       "      <td>343</td>\n",
       "      <td>25</td>\n",
       "      <td>660</td>\n",
       "    </tr>\n",
       "    <tr>\n",
       "      <th>11</th>\n",
       "      <td>Entre 55 a 59 anos</td>\n",
       "      <td>203</td>\n",
       "      <td>192</td>\n",
       "      <td>18</td>\n",
       "      <td>377</td>\n",
       "    </tr>\n",
       "    <tr>\n",
       "      <th>12</th>\n",
       "      <td>Entre 60 a 64 anos</td>\n",
       "      <td>165</td>\n",
       "      <td>149</td>\n",
       "      <td>8</td>\n",
       "      <td>306</td>\n",
       "    </tr>\n",
       "    <tr>\n",
       "      <th>13</th>\n",
       "      <td>Entre 65 a 69 anos</td>\n",
       "      <td>103</td>\n",
       "      <td>108</td>\n",
       "      <td>5</td>\n",
       "      <td>206</td>\n",
       "    </tr>\n",
       "    <tr>\n",
       "      <th>14</th>\n",
       "      <td>Entre 70 a 74 anos</td>\n",
       "      <td>62</td>\n",
       "      <td>61</td>\n",
       "      <td>5</td>\n",
       "      <td>118</td>\n",
       "    </tr>\n",
       "    <tr>\n",
       "      <th>15</th>\n",
       "      <td>Entre 75 a 79 anos</td>\n",
       "      <td>41</td>\n",
       "      <td>36</td>\n",
       "      <td>2</td>\n",
       "      <td>75</td>\n",
       "    </tr>\n",
       "  </tbody>\n",
       "</table>\n",
       "</div>"
      ],
      "text/plain": [
       "          Faixa etária  Mama Direita  Mama Esquerda  Mama Direita e Esquerda  \\\n",
       "10  Entre 50 a 54 anos           342            343                       25   \n",
       "11  Entre 55 a 59 anos           203            192                       18   \n",
       "12  Entre 60 a 64 anos           165            149                        8   \n",
       "13  Entre 65 a 69 anos           103            108                        5   \n",
       "14  Entre 70 a 74 anos            62             61                        5   \n",
       "15  Entre 75 a 79 anos            41             36                        2   \n",
       "\n",
       "    Total  \n",
       "10    660  \n",
       "11    377  \n",
       "12    306  \n",
       "13    206  \n",
       "14    118  \n",
       "15     75  "
      ]
     },
     "execution_count": 6,
     "metadata": {},
     "output_type": "execute_result"
    }
   ],
   "source": [
    "dados.loc[10:15]"
   ]
  },
  {
   "cell_type": "markdown",
   "metadata": {},
   "source": [
    "Abaixo, é possível visualizar melhor a oxilação de casos conforme as idades das mulheres diagnosticadas."
   ]
  },
  {
   "cell_type": "code",
   "execution_count": 7,
   "metadata": {},
   "outputs": [
    {
     "data": {
      "text/plain": [
       "<matplotlib.axes._subplots.AxesSubplot at 0x193db16f6a0>"
      ]
     },
     "execution_count": 7,
     "metadata": {},
     "output_type": "execute_result"
    },
    {
     "data": {
      "image/png": "[encoded data removed]",
      "text/plain": [
       "<Figure size 432x288 with 1 Axes>"
      ]
     },
     "metadata": {
      "needs_background": "light"
     },
     "output_type": "display_data"
    }
   ],
   "source": [
    "dados.tail(16).plot(kind='bar', \n",
    "        x='Faixa etária', y='Total', color='RED')"
   ]
  },
  {
   "cell_type": "markdown",
   "metadata": {},
   "source": [
    "E as mulheres que tiveram a infelicidade de desenvolver a doença em ambas as mamas, também se concentram entre as idades de 40 a 49 anos."
   ]
  },
  {
   "cell_type": "code",
   "execution_count": 8,
   "metadata": {},
   "outputs": [
    {
     "data": {
      "text/plain": [
       "<matplotlib.axes._subplots.AxesSubplot at 0x193dd2a73c8>"
      ]
     },
     "execution_count": 8,
     "metadata": {},
     "output_type": "execute_result"
    },
    {
     "data": {
      "image/png": "[encoded data removed]",
      "text/plain": [
       "<Figure size 432x288 with 1 Axes>"
      ]
     },
     "metadata": {
      "needs_background": "light"
     },
     "output_type": "display_data"
    }
   ],
   "source": [
    "dados.tail(16).plot(kind='bar', \n",
    "        x='Faixa etária', y='Mama Direita e Esquerda', color='BLUE')"
   ]
  },
  {
   "cell_type": "markdown",
   "metadata": {},
   "source": [
    "Portanto, observamos que as mulheres mais afetadas pelo cancêr de mama estão abaixo dos 50 anos em 2019 no Brasil. \n",
    "\n",
    "Ressaltando a importância dos cuidados e prevenções que todas elas devem manter anualmente com acompanhamento médico, mas que infelizmente nem todas elas tem acesso devido às deficiências do sistema SUS."
   ]
  },
  {
   "cell_type": "code",
   "execution_count": null,
   "metadata": {},
   "outputs": [],
   "source": []
  }
 ],
 "metadata": {
  "kernelspec": {
   "display_name": "Python 3",
   "language": "python",
   "name": "python3"
  },
  "language_info": {
   "codemirror_mode": {
    "name": "ipython",
    "version": 3
   },
   "file_extension": ".py",
   "mimetype": "text/x-python",
   "name": "python",
   "nbconvert_exporter": "python",
   "pygments_lexer": "ipython3",
   "version": "3.7.3"
  }
 },
 "nbformat": 4,
 "nbformat_minor": 4
}
